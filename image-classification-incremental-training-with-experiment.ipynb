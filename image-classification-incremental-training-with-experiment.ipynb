{
 "cells": [
  {
   "cell_type": "markdown",
   "id": "1de8548d",
   "metadata": {},
   "source": [
    "# End-to-End Incremental Training Image Classification Example with Experiment\n",
    "\n",
    "1. [Introduction](#Introduction)\n",
    "2. [Prerequisites and Preprocessing](#Prequisites-and-Preprocessing)\n",
    "  1. [Permissions and environment variables](#Permissions-and-environment-variables)\n",
    "  2. [Prepare the data](#Prepare-the-data)\n",
    "3. [Training the model](#Training-the-model)\n",
    "  1. [Training parameters](#Training-parameters)\n",
    "  2. [Start the training](#Start-the-training)\n",
    "4. [Inference](#Inference)"
   ]
  },
  {
   "cell_type": "markdown",
   "id": "d0c7532e",
   "metadata": {},
   "source": [
    "_본 예제는 [Amazon SageMaker Examples](https://github.com/aws/amazon-sagemaker-examples/blob/master/introduction_to_amazon_algorithms/imageclassification_caltech/Image-classification-incremental-training-highlevel.ipynb) 를 참고하였습니다._"
   ]
  },
  {
   "cell_type": "markdown",
   "id": "ab2d7f2c",
   "metadata": {},
   "source": [
    "## Introduction\n",
    "\n",
    "Amazon Sagemaker image classificaiton 알고리즘을 사용한 incremental training 의 end to end 예제에 오신 것을 환영합니다. 이 데모에서는 Amazon SageMaker image classification 알고리즘을 사용하여 [caltech-256 dataset](http://www.vision.caltech.edu/Image_Datasets/Caltech256/) 을 training 합니다. 처음에는 몇번의 epoch 을 실행하여 training 하고, 그 이후에 이전 교육에서 생성된 모델을 사용하여 다시 훈련하지 않고 정확도를 높이기 위해 추가된 데이터만을 사용해 또 다른 training 을 시작합니다. \n",
    "\n",
    "시작하기에 앞서 권한, 구성 등에 대한 몇 가지 사전 요구 사항 단계를 통해 환경을 설정해야 합니다."
   ]
  },
  {
   "cell_type": "markdown",
   "id": "41c871df",
   "metadata": {},
   "source": [
    "## Prequisites and Preprocessing\n",
    "\n",
    "### Permissions and environment variables\n",
    "\n",
    "여기서는 AWS 서비스에 대한 연결 및 인증을 설정합니다. 다음 세가지 부분을 참조합니다.\n",
    "\n",
    "* 데이터에 대한 학습 및 호스팅 액세스 권한을 부여하는 데 사용되는 Role. 이 작업은 노트북을 시작하는 데 사용된 Role 에서 자동으로 얻어집니다.\n",
    "* 학습 및 모델 데이터에 사용할 S3 버킷\n",
    "* 변경할 필요가 없는 Amazon SagegMaker image classification 도커 이미지"
   ]
  },
  {
   "cell_type": "code",
   "execution_count": 1,
   "id": "2eafa690",
   "metadata": {},
   "outputs": [
    {
     "name": "stdout",
     "output_type": "stream",
     "text": [
      "arn:aws:iam::806174985048:role/service-role/AmazonSageMaker-ExecutionRole-20201218T151409\n",
      "CPU times: user 1.41 s, sys: 931 ms, total: 2.34 s\n",
      "Wall time: 824 ms\n"
     ]
    }
   ],
   "source": [
    "%%time\n",
    "import sagemaker\n",
    "from sagemaker import get_execution_role\n",
    "\n",
    "role = get_execution_role()\n",
    "print(role)\n",
    "\n",
    "sess = sagemaker.Session()\n",
    "# TODO: default 버킷 대신 사용자 지정 버킷을 사용하도록 하고 prefix 역시 사용자 지정 prefix 를 사용하도록 합니다.\n",
    "bucket = sess.default_bucket()\n",
    "prefix = \"ic-fulltraining\""
   ]
  },
  {
   "cell_type": "markdown",
   "id": "4019e104",
   "metadata": {},
   "source": [
    "image classification 도커 이미지를 위한 주소를 지정합니다."
   ]
  },
  {
   "cell_type": "code",
   "execution_count": 2,
   "id": "7f82899b",
   "metadata": {},
   "outputs": [],
   "source": [
    "from sagemaker import analytics"
   ]
  },
  {
   "cell_type": "code",
   "execution_count": 3,
   "id": "91c06369",
   "metadata": {},
   "outputs": [],
   "source": [
    "import pandas as pd"
   ]
  },
  {
   "cell_type": "code",
   "execution_count": 4,
   "id": "9a5dafd6",
   "metadata": {},
   "outputs": [],
   "source": [
    "pd.set_option('display.max_columns', None)"
   ]
  },
  {
   "cell_type": "code",
   "execution_count": 5,
   "id": "69fa6545",
   "metadata": {},
   "outputs": [],
   "source": [
    "# from sagemaker.amazon.amazon_estimator import get_image_uri\n",
    "\n",
    "# training_image = get_image_uri(sess.boto_region_name, \"image-classification\", repo_version=\"latest\")\n",
    "training_image = sagemaker.image_uris.retrieve(\"image-classification\", sess.boto_region_name)"
   ]
  },
  {
   "cell_type": "code",
   "execution_count": 6,
   "id": "e2901ac8",
   "metadata": {},
   "outputs": [
    {
     "data": {
      "text/plain": [
       "'306986355934.dkr.ecr.ap-northeast-2.amazonaws.com/image-classification:1'"
      ]
     },
     "execution_count": 6,
     "metadata": {},
     "output_type": "execute_result"
    }
   ],
   "source": [
    "training_image"
   ]
  },
  {
   "cell_type": "markdown",
   "id": "97bd38fe",
   "metadata": {},
   "source": [
    "### Data preparation\n",
    "\n",
    "데이터를 다운로드하고 S3로 전송하여 학습에 사용합니다. 이 데모에서는 256개 객체의 이미지를 30608개 포함하는 [Caltech-256](http://www.vision.caltech.edu/Image_Datasets/Caltech256/) 데이터 세트를 사용하고 있습니다. 학습 및 유효성 검사 데이터의 경우 이 MXNet [example](https://github.com/apache/incubator-mxnet/blob/master/example/image-classification/data/caltech256.sh) 의 분할 체계를 따릅니다. 특히 학습을 위해 클래스당 60개의 이미지를 무작위로 선택하고 나머지 데이터를 검증에 사용합니다. 알고리즘은 `RecordIO` 포멧을 입력으로 사용합니다. 이미지 파일을 입력으로 사용 할 수도 있는데 이 파일은 MXNet의 [im2rec](https://mxnet.incubator.apache.org/how_to/recordio.html?highlight=im2rec) 툴을 사용하여 `RecordIO` 형식으로 변환됩니다. p2.xlarge 인스턴스에서 전체 Caltech-256 데이터 세트 (약 1.2GB) 를 변환하는 데 약 50초가 걸립니다. 이 데모에서는 RecordIO 형식을 사용합니다. "
   ]
  },
  {
   "cell_type": "code",
   "execution_count": 7,
   "id": "61f8cc78",
   "metadata": {},
   "outputs": [],
   "source": [
    "import boto3\n",
    "\n",
    "s3_client = boto3.client(\"s3\")\n",
    "\n",
    "\n",
    "def upload_to_s3(channel, file):\n",
    "    s3 = boto3.resource(\"s3\")\n",
    "    data = open(file, \"rb\")\n",
    "    key = channel + \"/\" + file\n",
    "    s3.Bucket(bucket).put_object(Key=key, Body=data)\n",
    "\n",
    "\n",
    "# caltech-256\n",
    "s3_client.download_file(\n",
    "    \"sagemaker-sample-files\",\n",
    "    \"datasets/image/caltech-256/caltech-256-60-train.rec\",\n",
    "    \"caltech-256-60-train.rec\",\n",
    ")\n",
    "s3_client.download_file(\n",
    "    \"sagemaker-sample-files\",\n",
    "    \"datasets/image/caltech-256/caltech-256-60-val.rec\",\n",
    "    \"caltech-256-60-val.rec\",\n",
    ")"
   ]
  },
  {
   "cell_type": "code",
   "execution_count": 8,
   "id": "ceea5c92",
   "metadata": {},
   "outputs": [],
   "source": [
    "# Two channels: train, validation\n",
    "s3train = \"s3://{}/{}/train/\".format(bucket, prefix)\n",
    "s3validation = \"s3://{}/{}/validation/\".format(bucket, prefix)"
   ]
  },
  {
   "cell_type": "code",
   "execution_count": 9,
   "id": "7eab23ce",
   "metadata": {},
   "outputs": [
    {
     "name": "stdout",
     "output_type": "stream",
     "text": [
      "upload: ./caltech-256-60-train.rec to s3://sagemaker-ap-northeast-2-806174985048/ic-fulltraining/train/caltech-256-60-train.rec\n"
     ]
    }
   ],
   "source": [
    "# upload the rec files to train and validation channels\n",
    "!aws s3 cp caltech-256-60-train.rec $s3train\n",
    "!aws s3 cp caltech-256-60-val.rec $s3validation --quiet"
   ]
  },
  {
   "cell_type": "markdown",
   "id": "768ffa88",
   "metadata": {},
   "source": [
    "올바른 학습 포멧으로 데이터를 사용할 수 있게 되면 다음 단계는 데이터를 사용하여 모델을 실제로 학습시키는 것입니다. 학습 parameter 를 설정한 후 학습을 시작하고 학습이 완료될 때까지 상태를 폴링합니다."
   ]
  },
  {
   "cell_type": "markdown",
   "id": "d6a8ab5b",
   "metadata": {},
   "source": [
    "## Training the model\n",
    "\n",
    "필요한 모든 설정을 완료했으므로 이제 object detector 를 훈련시킬 준비가 되었습니다. 시작하려면 ``sageMaker.estimator.Estimator`` 객체를 만들어 보겠습니다.이 estimator 는 학습 작업을 시작합니다.\n",
    "\n",
    "### Training parameters\n",
    "\n",
    "학습을 위해 설정해야 하는 매개변수에는 두 가지 종류가 있습니다. 첫번째는 학습 작업의 매개 변수입니다. 여기에는 다음이 포함됩니다.\n",
    "\n",
    "* **Training instance count**: 이 개수는 학습을 실행할 인스턴스의 갯수입니다. 인스턴스 수가 1보다 크면 image classification 알고리즘이 분산 학습 모드에서 실행됩니다. \n",
    "* **Training instance type**: 이는 학습을 실행할 컴퓨팅 머신 유형을 나타냅니다. 일반적으로 이러한 학습에는 GPU 인스턴스를 사용합니다. \n",
    "* **Output path**: 학습 이후 output 이 저장되는 s3 폴더입니다.\n"
   ]
  },
  {
   "cell_type": "code",
   "execution_count": 12,
   "id": "e0f6a345",
   "metadata": {},
   "outputs": [],
   "source": [
    "s3_output_location = \"s3://{}/{}/output\".format(bucket, prefix)\n",
    "ic = sagemaker.estimator.Estimator(\n",
    "    training_image,\n",
    "    role,\n",
    "    instance_count=1,\n",
    "    instance_type=\"ml.p2.xlarge\",\n",
    "    volume_size=50,\n",
    "    max_run=360000,\n",
    "    input_mode=\"File\",\n",
    "    output_path=s3_output_location,\n",
    "    sagemaker_session=sess,\n",
    ")"
   ]
  },
  {
   "cell_type": "markdown",
   "id": "7a40bdc9",
   "metadata": {},
   "source": [
    "위의 매개 변수 집합 외에도 알고리즘과 관련된 하이퍼파라미터가 있습니다. 다음과 같습니다.\n",
    "\n",
    "* **num_layers**: 네트워크의 레이어 수 (깊이) 입니다. 이 샘플에는 18을 사용하지만 50, 152와 같은 다른 값을 사용할 수 있습니다.\n",
    "* **image_shape**: 네트워크의 입력 이미지 dimension, 'num_channels, 높이, 너비' 입니다. 실제 이미지 크기보다 크지 않아야 합니다. 채널 숫자는 실제 이미지와 같아야 합니다.\n",
    "* **num_classes**: 새 데이터 셋에 대한 출력 클래스 수입니다. Imagenet은 1000개의 출력 클래스로 훈련되었지만 미세 조정을 위해 출력 클래스 수를 변경할 수 있습니다. caltech의 경우 257을 사용합니다. 256개의 객체 범주+1개의 클러터 클래스가 있기 때문입니다.\n",
    "* **num_training_samples**: 총 교육 샘플 수입니다.현재 분할이 있는 caltech 데이터 세트의 경우 15240으로 설정됩니다.\n",
    "* **mini_batch_size**: 각 미니 배치에 사용되는 훈련 샘플 수입니다. 분산 훈련에서 배치당 사용되는 훈련 샘플 수는 N * mini_batch_size 가 됩니다. 여기서 N은 훈련이 실행되는 호스트 수입니다.\n",
    "* **epochs**: Number of training epochs.\n",
    "* **learning_rate**: Learning rate for training.\n",
    "* **top_k**: 훈련 중 상위 k 정확도를 보고합니다.\n"
   ]
  },
  {
   "cell_type": "code",
   "execution_count": 13,
   "id": "99c4d897",
   "metadata": {},
   "outputs": [],
   "source": [
    "ic.set_hyperparameters(\n",
    "    num_layers=18,\n",
    "    image_shape=\"3,224,224\",\n",
    "    num_classes=257,\n",
    "    num_training_samples=15420,\n",
    "    mini_batch_size=256,\n",
    "    epochs=2,\n",
    "    learning_rate=0.1,\n",
    "    top_k=2,\n",
    ")"
   ]
  },
  {
   "cell_type": "markdown",
   "id": "a1a19853",
   "metadata": {},
   "source": [
    "## Input data specification\n",
    "학습에 사용되는 데이터 유형 및 채널 설정"
   ]
  },
  {
   "cell_type": "code",
   "execution_count": 14,
   "id": "23cdf8f1",
   "metadata": {},
   "outputs": [],
   "source": [
    "train_data = sagemaker.inputs.TrainingInput(\n",
    "    s3train,\n",
    "    distribution=\"FullyReplicated\",\n",
    "    content_type=\"application/x-recordio\",\n",
    "    s3_data_type=\"S3Prefix\",\n",
    ")\n",
    "validation_data = sagemaker.inputs.TrainingInput(\n",
    "    s3validation,\n",
    "    distribution=\"FullyReplicated\",\n",
    "    content_type=\"application/x-recordio\",\n",
    "    s3_data_type=\"S3Prefix\",\n",
    ")\n",
    "\n",
    "data_channels = {\"train\": train_data, \"validation\": validation_data}"
   ]
  },
  {
   "cell_type": "markdown",
   "id": "1683d49a",
   "metadata": {},
   "source": [
    "### Experiment"
   ]
  },
  {
   "cell_type": "markdown",
   "id": "cfd9d312",
   "metadata": {},
   "source": [
    "### Install Python SDKs"
   ]
  },
  {
   "cell_type": "code",
   "execution_count": 15,
   "id": "b1d797a9",
   "metadata": {},
   "outputs": [],
   "source": [
    "import sys"
   ]
  },
  {
   "cell_type": "code",
   "execution_count": 16,
   "id": "ac131283",
   "metadata": {},
   "outputs": [
    {
     "name": "stdout",
     "output_type": "stream",
     "text": [
      "Requirement already satisfied: sagemaker-experiments==0.1.24 in /home/ec2-user/anaconda3/envs/python3/lib/python3.6/site-packages (0.1.24)\n",
      "Requirement already satisfied: boto3>=1.12.8 in /home/ec2-user/anaconda3/envs/python3/lib/python3.6/site-packages (from sagemaker-experiments==0.1.24) (1.17.100)\n",
      "Requirement already satisfied: jmespath<1.0.0,>=0.7.1 in /home/ec2-user/anaconda3/envs/python3/lib/python3.6/site-packages (from boto3>=1.12.8->sagemaker-experiments==0.1.24) (0.10.0)\n",
      "Requirement already satisfied: s3transfer<0.5.0,>=0.4.0 in /home/ec2-user/anaconda3/envs/python3/lib/python3.6/site-packages (from boto3>=1.12.8->sagemaker-experiments==0.1.24) (0.4.2)\n",
      "Requirement already satisfied: botocore<1.21.0,>=1.20.100 in /home/ec2-user/anaconda3/envs/python3/lib/python3.6/site-packages (from boto3>=1.12.8->sagemaker-experiments==0.1.24) (1.20.100)\n",
      "Requirement already satisfied: python-dateutil<3.0.0,>=2.1 in /home/ec2-user/anaconda3/envs/python3/lib/python3.6/site-packages (from botocore<1.21.0,>=1.20.100->boto3>=1.12.8->sagemaker-experiments==0.1.24) (2.8.1)\n",
      "Requirement already satisfied: urllib3<1.27,>=1.25.4 in /home/ec2-user/anaconda3/envs/python3/lib/python3.6/site-packages (from botocore<1.21.0,>=1.20.100->boto3>=1.12.8->sagemaker-experiments==0.1.24) (1.26.5)\n",
      "Requirement already satisfied: six>=1.5 in /home/ec2-user/anaconda3/envs/python3/lib/python3.6/site-packages (from python-dateutil<3.0.0,>=2.1->botocore<1.21.0,>=1.20.100->boto3>=1.12.8->sagemaker-experiments==0.1.24) (1.15.0)\n",
      "\u001b[33mWARNING: You are using pip version 21.1.2; however, version 21.2.3 is available.\n",
      "You should consider upgrading via the '/home/ec2-user/anaconda3/envs/python3/bin/python -m pip install --upgrade pip' command.\u001b[0m\n"
     ]
    }
   ],
   "source": [
    "!{sys.executable} -m pip install sagemaker-experiments==0.1.24"
   ]
  },
  {
   "cell_type": "code",
   "execution_count": 17,
   "id": "343e0984",
   "metadata": {},
   "outputs": [],
   "source": [
    "import time"
   ]
  },
  {
   "cell_type": "code",
   "execution_count": 18,
   "id": "9af47f30",
   "metadata": {},
   "outputs": [],
   "source": [
    "from IPython.display import set_matplotlib_formats\n",
    "\n",
    "from sagemaker.analytics import ExperimentAnalytics\n",
    "\n",
    "from smexperiments.experiment import Experiment\n",
    "from smexperiments.trial import Trial\n",
    "from smexperiments.trial_component import TrialComponent\n",
    "from smexperiments.tracker import Tracker\n",
    "\n",
    "set_matplotlib_formats(\"retina\")"
   ]
  },
  {
   "cell_type": "markdown",
   "id": "c12ea258",
   "metadata": {},
   "source": [
    "### initial training experiment"
   ]
  },
  {
   "cell_type": "code",
   "execution_count": 19,
   "id": "b7543f5f",
   "metadata": {},
   "outputs": [
    {
     "name": "stdout",
     "output_type": "stream",
     "text": [
      "Experiment(sagemaker_boto_client=<botocore.client.SageMaker object at 0x7efd0fd95908>,experiment_name='image-classification-caltech-256-1628727493',description='Classification of caltech 256 dataset',tags=None,experiment_arn='arn:aws:sagemaker:ap-northeast-2:806174985048:experiment/image-classification-caltech-256-1628727493',response_metadata={'RequestId': 'c229b20f-d9e0-4a87-8110-bfd14fe47f87', 'HTTPStatusCode': 200, 'HTTPHeaders': {'x-amzn-requestid': 'c229b20f-d9e0-4a87-8110-bfd14fe47f87', 'content-type': 'application/x-amz-json-1.1', 'content-length': '120', 'date': 'Thu, 12 Aug 2021 00:18:13 GMT'}, 'RetryAttempts': 0})\n"
     ]
    }
   ],
   "source": [
    "caltech_experiment = Experiment.create(\n",
    "    experiment_name=f\"image-classification-caltech-256-{int(time.time())}\",\n",
    "    description=\"Classification of caltech 256 dataset\",\n",
    ")\n",
    "print(caltech_experiment)"
   ]
  },
  {
   "cell_type": "code",
   "execution_count": 20,
   "id": "08408254",
   "metadata": {},
   "outputs": [],
   "source": [
    "caltech_trial = caltech_experiment.create_trial(trial_name=f'image-classification-caltech-256-first-{int(time.time())}')"
   ]
  },
  {
   "cell_type": "markdown",
   "id": "845a32bc",
   "metadata": {},
   "source": [
    "## Start the training\n",
    "Estimator 에서 fit 메서드를 호출하여 학습을 시작합니다."
   ]
  },
  {
   "cell_type": "code",
   "execution_count": 21,
   "id": "4699f834",
   "metadata": {
    "collapsed": true,
    "jupyter": {
     "outputs_hidden": true
    }
   },
   "outputs": [
    {
     "name": "stderr",
     "output_type": "stream",
     "text": [
      "INFO:sagemaker.image_uris:Defaulting to the only supported framework/algorithm version: latest.\n",
      "INFO:sagemaker.image_uris:Ignoring unnecessary instance type: None.\n",
      "INFO:sagemaker:Creating training-job with name: image-classification-2021-08-12-00-18-39-481\n"
     ]
    },
    {
     "name": "stdout",
     "output_type": "stream",
     "text": [
      "2021-08-12 00:18:39 Starting - Starting the training job...\n",
      "2021-08-12 00:18:47 Starting - Launching requested ML instancesProfilerReport-1628727519: InProgress\n",
      "......\n",
      "2021-08-12 00:20:08 Starting - Preparing the instances for training............\n",
      "2021-08-12 00:22:02 Downloading - Downloading input data...\n",
      "2021-08-12 00:22:34 Training - Downloading the training image........\u001b[34mDocker entrypoint called with argument(s): train\u001b[0m\n",
      "\u001b[34m[08/12/2021 00:23:51 INFO 139772794767168] Reading default configuration from /opt/amazon/lib/python3.7/site-packages/image_classification/default-input.json: {'use_pretrained_model': 0, 'num_layers': 152, 'epochs': 30, 'learning_rate': 0.1, 'lr_scheduler_factor': 0.1, 'optimizer': 'sgd', 'momentum': 0, 'weight_decay': 0.0001, 'beta_1': 0.9, 'beta_2': 0.999, 'eps': 1e-08, 'gamma': 0.9, 'mini_batch_size': 32, 'image_shape': '3,224,224', 'precision_dtype': 'float32'}\u001b[0m\n",
      "\u001b[34m[08/12/2021 00:23:51 INFO 139772794767168] Merging with provided configuration from /opt/ml/input/config/hyperparameters.json: {'num_classes': '257', 'top_k': '2', 'num_training_samples': '15420', 'num_layers': '18', 'epochs': '2', 'image_shape': '3,224,224', 'learning_rate': '0.1', 'mini_batch_size': '256'}\u001b[0m\n",
      "\u001b[34m[08/12/2021 00:23:51 INFO 139772794767168] Final configuration: {'use_pretrained_model': 0, 'num_layers': '18', 'epochs': '2', 'learning_rate': '0.1', 'lr_scheduler_factor': 0.1, 'optimizer': 'sgd', 'momentum': 0, 'weight_decay': 0.0001, 'beta_1': 0.9, 'beta_2': 0.999, 'eps': 1e-08, 'gamma': 0.9, 'mini_batch_size': '256', 'image_shape': '3,224,224', 'precision_dtype': 'float32', 'num_classes': '257', 'top_k': '2', 'num_training_samples': '15420'}\u001b[0m\n",
      "\u001b[34m[08/12/2021 00:23:51 INFO 139772794767168] Searching for .rec files in /opt/ml/input/data/train.\u001b[0m\n",
      "\u001b[34m[08/12/2021 00:23:51 INFO 139772794767168] Searching for .rec files in /opt/ml/input/data/validation.\u001b[0m\n",
      "\u001b[34m[08/12/2021 00:23:51 INFO 139772794767168] use_pretrained_model: 0\u001b[0m\n",
      "\u001b[34m[08/12/2021 00:23:51 INFO 139772794767168] multi_label: 0\u001b[0m\n",
      "\u001b[34m[08/12/2021 00:23:51 INFO 139772794767168] Performing random weight initialization\u001b[0m\n",
      "\u001b[34m[08/12/2021 00:23:51 INFO 139772794767168] ---- Parameters ----\u001b[0m\n",
      "\u001b[34m[08/12/2021 00:23:51 INFO 139772794767168] num_layers: 18\u001b[0m\n",
      "\u001b[34m[08/12/2021 00:23:51 INFO 139772794767168] data type: <class 'numpy.float32'>\u001b[0m\n",
      "\u001b[34m[08/12/2021 00:23:51 INFO 139772794767168] epochs: 2\u001b[0m\n",
      "\u001b[34m[08/12/2021 00:23:51 INFO 139772794767168] optimizer: sgd\u001b[0m\n",
      "\u001b[34m[08/12/2021 00:23:51 INFO 139772794767168] momentum: 0.9\u001b[0m\n",
      "\u001b[34m[08/12/2021 00:23:51 INFO 139772794767168] weight_decay: 0.0001\u001b[0m\n",
      "\u001b[34m[08/12/2021 00:23:51 INFO 139772794767168] learning_rate: 0.1\u001b[0m\n",
      "\u001b[34m[08/12/2021 00:23:51 INFO 139772794767168] num_training_samples: 15420\u001b[0m\n",
      "\u001b[34m[08/12/2021 00:23:51 INFO 139772794767168] mini_batch_size: 256\u001b[0m\n",
      "\u001b[34m[08/12/2021 00:23:51 INFO 139772794767168] image_shape: 3,224,224\u001b[0m\n",
      "\u001b[34m[08/12/2021 00:23:51 INFO 139772794767168] num_classes: 257\u001b[0m\n",
      "\u001b[34m[08/12/2021 00:23:51 INFO 139772794767168] augmentation_type: None\u001b[0m\n",
      "\u001b[34m[08/12/2021 00:23:51 INFO 139772794767168] kv_store: device\u001b[0m\n",
      "\u001b[34m[08/12/2021 00:23:51 INFO 139772794767168] top_k: 2\u001b[0m\n",
      "\u001b[34m[08/12/2021 00:23:51 INFO 139772794767168] checkpoint_frequency not set, will store the best model\u001b[0m\n",
      "\u001b[34m[08/12/2021 00:23:51 INFO 139772794767168] --------------------\u001b[0m\n",
      "\u001b[34m[08/12/2021 00:23:51 INFO 139772794767168] Setting number of threads: 3\u001b[0m\n",
      "\n",
      "2021-08-12 00:23:54 Training - Training image download completed. Training in progress.\u001b[34m[00:24:01] /opt/brazil-pkg-cache/packages/AIAlgorithmsMXNet/AIAlgorithmsMXNet-1.3.x_ecl_Cuda_10.1.x.6753.0/AL2_x86_64/generic-flavor/src/src/operator/nn/./cudnn/./cudnn_algoreg-inl.h:97: Running performance tests to find the best convolution algorithm, this can take a while... (setting env variable MXNET_CUDNN_AUTOTUNE_DEFAULT to 0 to disable)\u001b[0m\n",
      "\u001b[34m[08/12/2021 00:24:51 INFO 139772794767168] Epoch[0] Batch [20]#011Speed: 101.315 samples/sec#011accuracy=0.011347#011top_k_accuracy_2=0.020275\u001b[0m\n",
      "\u001b[34m[08/12/2021 00:25:30 INFO 139772794767168] Epoch[0] Batch [40]#011Speed: 114.322 samples/sec#011accuracy=0.020960#011top_k_accuracy_2=0.037729\u001b[0m\n",
      "\u001b[34m[08/12/2021 00:26:07 INFO 139772794767168] Epoch[0] Train-accuracy=0.028451\u001b[0m\n",
      "\u001b[34m[08/12/2021 00:26:07 INFO 139772794767168] Epoch[0] Train-top_k_accuracy_2=0.048958\u001b[0m\n",
      "\u001b[34m[08/12/2021 00:26:07 INFO 139772794767168] Epoch[0] Time cost=126.938\u001b[0m\n",
      "\u001b[34m[08/12/2021 00:26:44 INFO 139772794767168] Epoch[0] Validation-accuracy=0.061068\u001b[0m\n",
      "\u001b[34m[08/12/2021 00:26:44 INFO 139772794767168] Storing the best model with validation accuracy: 0.061068\u001b[0m\n",
      "\u001b[34m[08/12/2021 00:26:44 INFO 139772794767168] Saved checkpoint to \"/opt/ml/model/image-classification-0001.params\"\u001b[0m\n",
      "\u001b[34m[08/12/2021 00:27:24 INFO 139772794767168] Epoch[1] Batch [20]#011Speed: 126.481 samples/sec#011accuracy=0.062500#011top_k_accuracy_2=0.102121\u001b[0m\n",
      "\u001b[34m[08/12/2021 00:28:04 INFO 139772794767168] Epoch[1] Batch [40]#011Speed: 128.271 samples/sec#011accuracy=0.069931#011top_k_accuracy_2=0.110328\u001b[0m\n",
      "\u001b[34m[08/12/2021 00:28:41 INFO 139772794767168] Epoch[1] Train-accuracy=0.080208\u001b[0m\n",
      "\u001b[34m[08/12/2021 00:28:41 INFO 139772794767168] Epoch[1] Train-top_k_accuracy_2=0.123047\u001b[0m\n",
      "\u001b[34m[08/12/2021 00:28:41 INFO 139772794767168] Epoch[1] Time cost=117.208\u001b[0m\n",
      "\u001b[34m[08/12/2021 00:29:17 INFO 139772794767168] Epoch[1] Validation-accuracy=0.083157\u001b[0m\n",
      "\u001b[34m[08/12/2021 00:29:17 INFO 139772794767168] Storing the best model with validation accuracy: 0.083157\u001b[0m\n",
      "\u001b[34m[08/12/2021 00:29:17 INFO 139772794767168] Saved checkpoint to \"/opt/ml/model/image-classification-0002.params\"\u001b[0m\n",
      "\n",
      "2021-08-12 00:29:36 Uploading - Uploading generated training model\n",
      "2021-08-12 00:29:36 Completed - Training job completed\n",
      "Training seconds: 450\n",
      "Billable seconds: 450\n",
      "CPU times: user 1.1 s, sys: 40.8 ms, total: 1.14 s\n",
      "Wall time: 11min 16s\n"
     ]
    }
   ],
   "source": [
    "%%time\n",
    "ic.fit(inputs=data_channels, logs=True, experiment_config={\n",
    "            \"ExperimentName\": caltech_experiment.experiment_name,\n",
    "            \"TrialName\": caltech_trial.trial_name,\n",
    "            \"TrialComponentDisplayName\": \"caltech-image-classification\",\n",
    "        })"
   ]
  },
  {
   "cell_type": "markdown",
   "id": "e44693bb",
   "metadata": {},
   "source": [
    "Experiment 분석을 위한 Analytics 를 만듭니다."
   ]
  },
  {
   "cell_type": "code",
   "execution_count": 22,
   "id": "aa332d4e",
   "metadata": {},
   "outputs": [],
   "source": [
    "trial_component_analytics = analytics.ExperimentAnalytics(experiment_name=caltech_experiment.experiment_name)"
   ]
  },
  {
   "cell_type": "code",
   "execution_count": 23,
   "id": "17b265b0",
   "metadata": {},
   "outputs": [
    {
     "data": {
      "text/html": [
       "<div>\n",
       "<style scoped>\n",
       "    .dataframe tbody tr th:only-of-type {\n",
       "        vertical-align: middle;\n",
       "    }\n",
       "\n",
       "    .dataframe tbody tr th {\n",
       "        vertical-align: top;\n",
       "    }\n",
       "\n",
       "    .dataframe thead th {\n",
       "        text-align: right;\n",
       "    }\n",
       "</style>\n",
       "<table border=\"1\" class=\"dataframe\">\n",
       "  <thead>\n",
       "    <tr style=\"text-align: right;\">\n",
       "      <th></th>\n",
       "      <th>TrialComponentName</th>\n",
       "      <th>DisplayName</th>\n",
       "      <th>SourceArn</th>\n",
       "      <th>SageMaker.ImageUri</th>\n",
       "      <th>SageMaker.InstanceCount</th>\n",
       "      <th>SageMaker.InstanceType</th>\n",
       "      <th>SageMaker.VolumeSizeInGB</th>\n",
       "      <th>epochs</th>\n",
       "      <th>image_shape</th>\n",
       "      <th>learning_rate</th>\n",
       "      <th>mini_batch_size</th>\n",
       "      <th>num_classes</th>\n",
       "      <th>num_layers</th>\n",
       "      <th>num_training_samples</th>\n",
       "      <th>top_k</th>\n",
       "      <th>validation:accuracy:epoch - Min</th>\n",
       "      <th>validation:accuracy:epoch - Max</th>\n",
       "      <th>validation:accuracy:epoch - Avg</th>\n",
       "      <th>validation:accuracy:epoch - StdDev</th>\n",
       "      <th>validation:accuracy:epoch - Last</th>\n",
       "      <th>validation:accuracy:epoch - Count</th>\n",
       "      <th>train:accuracy:epoch - Min</th>\n",
       "      <th>train:accuracy:epoch - Max</th>\n",
       "      <th>train:accuracy:epoch - Avg</th>\n",
       "      <th>train:accuracy:epoch - StdDev</th>\n",
       "      <th>train:accuracy:epoch - Last</th>\n",
       "      <th>train:accuracy:epoch - Count</th>\n",
       "      <th>validation:accuracy - Min</th>\n",
       "      <th>validation:accuracy - Max</th>\n",
       "      <th>validation:accuracy - Avg</th>\n",
       "      <th>validation:accuracy - StdDev</th>\n",
       "      <th>validation:accuracy - Last</th>\n",
       "      <th>validation:accuracy - Count</th>\n",
       "      <th>train:accuracy - Min</th>\n",
       "      <th>train:accuracy - Max</th>\n",
       "      <th>train:accuracy - Avg</th>\n",
       "      <th>train:accuracy - StdDev</th>\n",
       "      <th>train:accuracy - Last</th>\n",
       "      <th>train:accuracy - Count</th>\n",
       "      <th>train - MediaType</th>\n",
       "      <th>train - Value</th>\n",
       "      <th>validation - MediaType</th>\n",
       "      <th>validation - Value</th>\n",
       "      <th>SageMaker.ModelArtifact - MediaType</th>\n",
       "      <th>SageMaker.ModelArtifact - Value</th>\n",
       "      <th>Trials</th>\n",
       "      <th>Experiments</th>\n",
       "    </tr>\n",
       "  </thead>\n",
       "  <tbody>\n",
       "    <tr>\n",
       "      <th>0</th>\n",
       "      <td>image-classification-2021-08-12-00-18-39-481-a...</td>\n",
       "      <td>caltech-image-classification</td>\n",
       "      <td>arn:aws:sagemaker:ap-northeast-2:806174985048:...</td>\n",
       "      <td>306986355934.dkr.ecr.ap-northeast-2.amazonaws....</td>\n",
       "      <td>1.0</td>\n",
       "      <td>ml.p2.xlarge</td>\n",
       "      <td>50.0</td>\n",
       "      <td>2.0</td>\n",
       "      <td>3,224,224</td>\n",
       "      <td>0.1</td>\n",
       "      <td>256.0</td>\n",
       "      <td>257.0</td>\n",
       "      <td>18.0</td>\n",
       "      <td>15420.0</td>\n",
       "      <td>2.0</td>\n",
       "      <td>0.061068</td>\n",
       "      <td>0.083157</td>\n",
       "      <td>0.072112</td>\n",
       "      <td>0.015619</td>\n",
       "      <td>0.083157</td>\n",
       "      <td>2</td>\n",
       "      <td>0.028451</td>\n",
       "      <td>0.080208</td>\n",
       "      <td>0.05433</td>\n",
       "      <td>0.036598</td>\n",
       "      <td>0.080208</td>\n",
       "      <td>2</td>\n",
       "      <td>0.061068</td>\n",
       "      <td>0.083157</td>\n",
       "      <td>0.072112</td>\n",
       "      <td>0.015619</td>\n",
       "      <td>0.083157</td>\n",
       "      <td>2</td>\n",
       "      <td>0.028451</td>\n",
       "      <td>0.080208</td>\n",
       "      <td>0.05433</td>\n",
       "      <td>0.036598</td>\n",
       "      <td>0.080208</td>\n",
       "      <td>2</td>\n",
       "      <td>application/x-recordio</td>\n",
       "      <td>s3://sagemaker-ap-northeast-2-806174985048/ic-...</td>\n",
       "      <td>application/x-recordio</td>\n",
       "      <td>s3://sagemaker-ap-northeast-2-806174985048/ic-...</td>\n",
       "      <td>None</td>\n",
       "      <td>s3://sagemaker-ap-northeast-2-806174985048/ic-...</td>\n",
       "      <td>[image-classification-caltech-256-first-162872...</td>\n",
       "      <td>[image-classification-caltech-256-1628727493]</td>\n",
       "    </tr>\n",
       "  </tbody>\n",
       "</table>\n",
       "</div>"
      ],
      "text/plain": [
       "                                  TrialComponentName  \\\n",
       "0  image-classification-2021-08-12-00-18-39-481-a...   \n",
       "\n",
       "                    DisplayName  \\\n",
       "0  caltech-image-classification   \n",
       "\n",
       "                                           SourceArn  \\\n",
       "0  arn:aws:sagemaker:ap-northeast-2:806174985048:...   \n",
       "\n",
       "                                  SageMaker.ImageUri  SageMaker.InstanceCount  \\\n",
       "0  306986355934.dkr.ecr.ap-northeast-2.amazonaws....                      1.0   \n",
       "\n",
       "  SageMaker.InstanceType  SageMaker.VolumeSizeInGB  epochs image_shape  \\\n",
       "0           ml.p2.xlarge                      50.0     2.0   3,224,224   \n",
       "\n",
       "   learning_rate  mini_batch_size  num_classes  num_layers  \\\n",
       "0            0.1            256.0        257.0        18.0   \n",
       "\n",
       "   num_training_samples  top_k  validation:accuracy:epoch - Min  \\\n",
       "0               15420.0    2.0                         0.061068   \n",
       "\n",
       "   validation:accuracy:epoch - Max  validation:accuracy:epoch - Avg  \\\n",
       "0                         0.083157                         0.072112   \n",
       "\n",
       "   validation:accuracy:epoch - StdDev  validation:accuracy:epoch - Last  \\\n",
       "0                            0.015619                          0.083157   \n",
       "\n",
       "   validation:accuracy:epoch - Count  train:accuracy:epoch - Min  \\\n",
       "0                                  2                    0.028451   \n",
       "\n",
       "   train:accuracy:epoch - Max  train:accuracy:epoch - Avg  \\\n",
       "0                    0.080208                     0.05433   \n",
       "\n",
       "   train:accuracy:epoch - StdDev  train:accuracy:epoch - Last  \\\n",
       "0                       0.036598                     0.080208   \n",
       "\n",
       "   train:accuracy:epoch - Count  validation:accuracy - Min  \\\n",
       "0                             2                   0.061068   \n",
       "\n",
       "   validation:accuracy - Max  validation:accuracy - Avg  \\\n",
       "0                   0.083157                   0.072112   \n",
       "\n",
       "   validation:accuracy - StdDev  validation:accuracy - Last  \\\n",
       "0                      0.015619                    0.083157   \n",
       "\n",
       "   validation:accuracy - Count  train:accuracy - Min  train:accuracy - Max  \\\n",
       "0                            2              0.028451              0.080208   \n",
       "\n",
       "   train:accuracy - Avg  train:accuracy - StdDev  train:accuracy - Last  \\\n",
       "0               0.05433                 0.036598               0.080208   \n",
       "\n",
       "   train:accuracy - Count       train - MediaType  \\\n",
       "0                       2  application/x-recordio   \n",
       "\n",
       "                                       train - Value  validation - MediaType  \\\n",
       "0  s3://sagemaker-ap-northeast-2-806174985048/ic-...  application/x-recordio   \n",
       "\n",
       "                                  validation - Value  \\\n",
       "0  s3://sagemaker-ap-northeast-2-806174985048/ic-...   \n",
       "\n",
       "  SageMaker.ModelArtifact - MediaType  \\\n",
       "0                                None   \n",
       "\n",
       "                     SageMaker.ModelArtifact - Value  \\\n",
       "0  s3://sagemaker-ap-northeast-2-806174985048/ic-...   \n",
       "\n",
       "                                              Trials  \\\n",
       "0  [image-classification-caltech-256-first-162872...   \n",
       "\n",
       "                                     Experiments  \n",
       "0  [image-classification-caltech-256-1628727493]  "
      ]
     },
     "execution_count": 23,
     "metadata": {},
     "output_type": "execute_result"
    }
   ],
   "source": [
    "trial_component_analytics.dataframe()"
   ]
  },
  {
   "cell_type": "markdown",
   "id": "7f5126ba",
   "metadata": {},
   "source": [
    "이제 훈련된 모델을 사용하여 추론을 수행할 수 있습니다. Estimator 에서 deploy 메서드를 사용하여 생성된 모델을 배포할 수 있습니다."
   ]
  },
  {
   "cell_type": "code",
   "execution_count": 24,
   "id": "48dff5b6",
   "metadata": {},
   "outputs": [
    {
     "name": "stderr",
     "output_type": "stream",
     "text": [
      "INFO:sagemaker:Creating model with name: image-classification-2021-08-12-00-30-37-094\n",
      "INFO:sagemaker:Creating endpoint with name image-classification-2021-08-12-00-30-37-094\n"
     ]
    },
    {
     "name": "stdout",
     "output_type": "stream",
     "text": [
      "-----------------!CPU times: user 230 ms, sys: 8.39 ms, total: 238 ms\n",
      "Wall time: 8min 32s\n"
     ]
    }
   ],
   "source": [
    "%%time\n",
    "ic_classifier = ic.deploy(initial_instance_count=1, instance_type=\"ml.m4.xlarge\")"
   ]
  },
  {
   "cell_type": "markdown",
   "id": "979a9d02",
   "metadata": {},
   "source": [
    "### Download test image"
   ]
  },
  {
   "cell_type": "code",
   "execution_count": 28,
   "id": "8d188f1e",
   "metadata": {},
   "outputs": [
    {
     "data": {
      "image/jpeg": "[encoded data removed]",
      "text/plain": [
       "<IPython.core.display.Image object>"
      ]
     },
     "execution_count": 28,
     "metadata": {},
     "output_type": "execute_result"
    }
   ],
   "source": [
    "file_name = \"/tmp/test.jpg\"\n",
    "s3_client.download_file(\n",
    "    \"sagemaker-sample-files\",\n",
    "    \"datasets/image/caltech-256/256_ObjectCategories/008.bathtub/008_0007.jpg\",\n",
    "    file_name,\n",
    ")\n",
    "# test image\n",
    "from IPython.display import Image\n",
    "\n",
    "Image(file_name)"
   ]
  },
  {
   "cell_type": "markdown",
   "id": "978c32bd",
   "metadata": {},
   "source": [
    "### Evaluation\n",
    "\n",
    "엔드포인트를 통해 이미지의 추론을 평가합니다. 추론 모델은 클래스 확률을 출력하며 일반적으로 최대 확률을 가진 클래스를 최종 클래스 출력으로 선택합니다. 훈련 매개변수 및 하이퍼 파라미터에 따라 결과는 달라질 수 있습니다."
   ]
  },
  {
   "cell_type": "code",
   "execution_count": 31,
   "id": "52c5711e",
   "metadata": {},
   "outputs": [
    {
     "name": "stdout",
     "output_type": "stream",
     "text": [
      "Result: label - rainbow, probability - 0.11248317360877991\n"
     ]
    }
   ],
   "source": [
    "import json\n",
    "import numpy as np\n",
    "from sagemaker.serializers import IdentitySerializer\n",
    "\n",
    "with open(file_name, \"rb\") as f:\n",
    "    payload = f.read()\n",
    "\n",
    "ic_classifier.serializer = IdentitySerializer(\"image/jpeg\")\n",
    "result = json.loads(ic_classifier.predict(payload))\n",
    "# the result will output the probabilities for all classes\n",
    "# find the class with maximum probability and print the class index\n",
    "index = np.argmax(result)\n",
    "object_categories = [\n",
    "    \"ak47\",\n",
    "    \"american-flag\",\n",
    "    \"backpack\",\n",
    "    \"baseball-bat\",\n",
    "    \"baseball-glove\",\n",
    "    \"basketball-hoop\",\n",
    "    \"bat\",\n",
    "    \"bathtub\",\n",
    "    \"bear\",\n",
    "    \"beer-mug\",\n",
    "    \"billiards\",\n",
    "    \"binoculars\",\n",
    "    \"birdbath\",\n",
    "    \"blimp\",\n",
    "    \"bonsai-101\",\n",
    "    \"boom-box\",\n",
    "    \"bowling-ball\",\n",
    "    \"bowling-pin\",\n",
    "    \"boxing-glove\",\n",
    "    \"brain-101\",\n",
    "    \"breadmaker\",\n",
    "    \"buddha-101\",\n",
    "    \"bulldozer\",\n",
    "    \"butterfly\",\n",
    "    \"cactus\",\n",
    "    \"cake\",\n",
    "    \"calculator\",\n",
    "    \"camel\",\n",
    "    \"cannon\",\n",
    "    \"canoe\",\n",
    "    \"car-tire\",\n",
    "    \"cartman\",\n",
    "    \"cd\",\n",
    "    \"centipede\",\n",
    "    \"cereal-box\",\n",
    "    \"chandelier-101\",\n",
    "    \"chess-board\",\n",
    "    \"chimp\",\n",
    "    \"chopsticks\",\n",
    "    \"cockroach\",\n",
    "    \"coffee-mug\",\n",
    "    \"coffin\",\n",
    "    \"coin\",\n",
    "    \"comet\",\n",
    "    \"computer-keyboard\",\n",
    "    \"computer-monitor\",\n",
    "    \"computer-mouse\",\n",
    "    \"conch\",\n",
    "    \"cormorant\",\n",
    "    \"covered-wagon\",\n",
    "    \"cowboy-hat\",\n",
    "    \"crab-101\",\n",
    "    \"desk-globe\",\n",
    "    \"diamond-ring\",\n",
    "    \"dice\",\n",
    "    \"dog\",\n",
    "    \"dolphin-101\",\n",
    "    \"doorknob\",\n",
    "    \"drinking-straw\",\n",
    "    \"duck\",\n",
    "    \"dumb-bell\",\n",
    "    \"eiffel-tower\",\n",
    "    \"electric-guitar-101\",\n",
    "    \"elephant-101\",\n",
    "    \"elk\",\n",
    "    \"ewer-101\",\n",
    "    \"eyeglasses\",\n",
    "    \"fern\",\n",
    "    \"fighter-jet\",\n",
    "    \"fire-extinguisher\",\n",
    "    \"fire-hydrant\",\n",
    "    \"fire-truck\",\n",
    "    \"fireworks\",\n",
    "    \"flashlight\",\n",
    "    \"floppy-disk\",\n",
    "    \"football-helmet\",\n",
    "    \"french-horn\",\n",
    "    \"fried-egg\",\n",
    "    \"frisbee\",\n",
    "    \"frog\",\n",
    "    \"frying-pan\",\n",
    "    \"galaxy\",\n",
    "    \"gas-pump\",\n",
    "    \"giraffe\",\n",
    "    \"goat\",\n",
    "    \"golden-gate-bridge\",\n",
    "    \"goldfish\",\n",
    "    \"golf-ball\",\n",
    "    \"goose\",\n",
    "    \"gorilla\",\n",
    "    \"grand-piano-101\",\n",
    "    \"grapes\",\n",
    "    \"grasshopper\",\n",
    "    \"guitar-pick\",\n",
    "    \"hamburger\",\n",
    "    \"hammock\",\n",
    "    \"harmonica\",\n",
    "    \"harp\",\n",
    "    \"harpsichord\",\n",
    "    \"hawksbill-101\",\n",
    "    \"head-phones\",\n",
    "    \"helicopter-101\",\n",
    "    \"hibiscus\",\n",
    "    \"homer-simpson\",\n",
    "    \"horse\",\n",
    "    \"horseshoe-crab\",\n",
    "    \"hot-air-balloon\",\n",
    "    \"hot-dog\",\n",
    "    \"hot-tub\",\n",
    "    \"hourglass\",\n",
    "    \"house-fly\",\n",
    "    \"human-skeleton\",\n",
    "    \"hummingbird\",\n",
    "    \"ibis-101\",\n",
    "    \"ice-cream-cone\",\n",
    "    \"iguana\",\n",
    "    \"ipod\",\n",
    "    \"iris\",\n",
    "    \"jesus-christ\",\n",
    "    \"joy-stick\",\n",
    "    \"kangaroo-101\",\n",
    "    \"kayak\",\n",
    "    \"ketch-101\",\n",
    "    \"killer-whale\",\n",
    "    \"knife\",\n",
    "    \"ladder\",\n",
    "    \"laptop-101\",\n",
    "    \"lathe\",\n",
    "    \"leopards-101\",\n",
    "    \"license-plate\",\n",
    "    \"lightbulb\",\n",
    "    \"light-house\",\n",
    "    \"lightning\",\n",
    "    \"llama-101\",\n",
    "    \"mailbox\",\n",
    "    \"mandolin\",\n",
    "    \"mars\",\n",
    "    \"mattress\",\n",
    "    \"megaphone\",\n",
    "    \"menorah-101\",\n",
    "    \"microscope\",\n",
    "    \"microwave\",\n",
    "    \"minaret\",\n",
    "    \"minotaur\",\n",
    "    \"motorbikes-101\",\n",
    "    \"mountain-bike\",\n",
    "    \"mushroom\",\n",
    "    \"mussels\",\n",
    "    \"necktie\",\n",
    "    \"octopus\",\n",
    "    \"ostrich\",\n",
    "    \"owl\",\n",
    "    \"palm-pilot\",\n",
    "    \"palm-tree\",\n",
    "    \"paperclip\",\n",
    "    \"paper-shredder\",\n",
    "    \"pci-card\",\n",
    "    \"penguin\",\n",
    "    \"people\",\n",
    "    \"pez-dispenser\",\n",
    "    \"photocopier\",\n",
    "    \"picnic-table\",\n",
    "    \"playing-card\",\n",
    "    \"porcupine\",\n",
    "    \"pram\",\n",
    "    \"praying-mantis\",\n",
    "    \"pyramid\",\n",
    "    \"raccoon\",\n",
    "    \"radio-telescope\",\n",
    "    \"rainbow\",\n",
    "    \"refrigerator\",\n",
    "    \"revolver-101\",\n",
    "    \"rifle\",\n",
    "    \"rotary-phone\",\n",
    "    \"roulette-wheel\",\n",
    "    \"saddle\",\n",
    "    \"saturn\",\n",
    "    \"school-bus\",\n",
    "    \"scorpion-101\",\n",
    "    \"screwdriver\",\n",
    "    \"segway\",\n",
    "    \"self-propelled-lawn-mower\",\n",
    "    \"sextant\",\n",
    "    \"sheet-music\",\n",
    "    \"skateboard\",\n",
    "    \"skunk\",\n",
    "    \"skyscraper\",\n",
    "    \"smokestack\",\n",
    "    \"snail\",\n",
    "    \"snake\",\n",
    "    \"sneaker\",\n",
    "    \"snowmobile\",\n",
    "    \"soccer-ball\",\n",
    "    \"socks\",\n",
    "    \"soda-can\",\n",
    "    \"spaghetti\",\n",
    "    \"speed-boat\",\n",
    "    \"spider\",\n",
    "    \"spoon\",\n",
    "    \"stained-glass\",\n",
    "    \"starfish-101\",\n",
    "    \"steering-wheel\",\n",
    "    \"stirrups\",\n",
    "    \"sunflower-101\",\n",
    "    \"superman\",\n",
    "    \"sushi\",\n",
    "    \"swan\",\n",
    "    \"swiss-army-knife\",\n",
    "    \"sword\",\n",
    "    \"syringe\",\n",
    "    \"tambourine\",\n",
    "    \"teapot\",\n",
    "    \"teddy-bear\",\n",
    "    \"teepee\",\n",
    "    \"telephone-box\",\n",
    "    \"tennis-ball\",\n",
    "    \"tennis-court\",\n",
    "    \"tennis-racket\",\n",
    "    \"theodolite\",\n",
    "    \"toaster\",\n",
    "    \"tomato\",\n",
    "    \"tombstone\",\n",
    "    \"top-hat\",\n",
    "    \"touring-bike\",\n",
    "    \"tower-pisa\",\n",
    "    \"traffic-light\",\n",
    "    \"treadmill\",\n",
    "    \"triceratops\",\n",
    "    \"tricycle\",\n",
    "    \"trilobite-101\",\n",
    "    \"tripod\",\n",
    "    \"t-shirt\",\n",
    "    \"tuning-fork\",\n",
    "    \"tweezer\",\n",
    "    \"umbrella-101\",\n",
    "    \"unicorn\",\n",
    "    \"vcr\",\n",
    "    \"video-projector\",\n",
    "    \"washing-machine\",\n",
    "    \"watch-101\",\n",
    "    \"waterfall\",\n",
    "    \"watermelon\",\n",
    "    \"welding-mask\",\n",
    "    \"wheelbarrow\",\n",
    "    \"windmill\",\n",
    "    \"wine-bottle\",\n",
    "    \"xylophone\",\n",
    "    \"yarmulke\",\n",
    "    \"yo-yo\",\n",
    "    \"zebra\",\n",
    "    \"airplanes-101\",\n",
    "    \"car-side-101\",\n",
    "    \"faces-easy-101\",\n",
    "    \"greyhound\",\n",
    "    \"tennis-shoes\",\n",
    "    \"toad\",\n",
    "    \"clutter\",\n",
    "]\n",
    "print(\"Result: label - \" + object_categories[index] + \", probability - \" + str(result[index]))"
   ]
  },
  {
   "cell_type": "code",
   "execution_count": 32,
   "id": "379e6f10",
   "metadata": {},
   "outputs": [
    {
     "data": {
      "text/plain": [
       "'mattress'"
      ]
     },
     "execution_count": 32,
     "metadata": {},
     "output_type": "execute_result"
    }
   ],
   "source": [
    "object_categories[np.argsort(result)[-2]]"
   ]
  },
  {
   "cell_type": "markdown",
   "id": "6e5f5bbb",
   "metadata": {},
   "source": [
    "## Prepare for incremental training\n",
    "\n",
    "이제 이전 학습에서 생성된 모델을 사용하여 동일한 데이터셋으로 다른 학습을 시작합니다. 이 새로운 학습은 이전 학습에서 생성된 모델을 사용하므로 더 높은 정확도로 시작됩니다. "
   ]
  },
  {
   "cell_type": "code",
   "execution_count": 33,
   "id": "0d1ca857",
   "metadata": {},
   "outputs": [
    {
     "name": "stdout",
     "output_type": "stream",
     "text": [
      "s3://sagemaker-ap-northeast-2-806174985048/ic-fulltraining/output/image-classification-2021-08-12-00-18-39-481/output/model.tar.gz\n"
     ]
    }
   ],
   "source": [
    "# Print the location of the model data from previous training\n",
    "print(ic.model_data)\n",
    "\n",
    "# Prepare model channel in addition to train and validation\n",
    "model_data = sagemaker.inputs.TrainingInput(\n",
    "    ic.model_data,\n",
    "    distribution=\"FullyReplicated\",\n",
    "    s3_data_type=\"S3Prefix\",\n",
    "    content_type=\"application/x-sagemaker-model\",\n",
    ")\n",
    "\n",
    "data_channels = {\"train\": train_data, \"validation\": validation_data, \"model\": model_data}"
   ]
  },
  {
   "cell_type": "markdown",
   "id": "148d7ac7",
   "metadata": {},
   "source": [
    "## Start another training\n",
    "\n",
    "이전과 동일한 하이퍼파라미터를 사용합니다. 모델 채널이 있으면 use_pretrained_model 매개변수가 무시됩니다. 클래스 수, 입력 이미지 모양 및 레이어 수는 동일한 모델로 시작하므로 이전 학습과 같아야 합니다. learning_rate, mini_batch_size 등과 같은 다른 파라미터는 다양할 수 있습니다. "
   ]
  },
  {
   "cell_type": "raw",
   "id": "406df798",
   "metadata": {},
   "source": [
    "ic.set_hyperparameters(\n",
    "    num_layers=18,\n",
    "    image_shape=\"3,224,224\",\n",
    "    num_classes=257,\n",
    "    num_training_samples=15420,\n",
    "    mini_batch_size=256,\n",
    "    epochs=10,\n",
    "    learning_rate=0.1,\n",
    "    top_k=2,\n",
    ")"
   ]
  },
  {
   "cell_type": "code",
   "execution_count": 34,
   "id": "b36bf2bb",
   "metadata": {},
   "outputs": [],
   "source": [
    "caltech_incr_trial = caltech_experiment.create_trial(trial_name=f'image-classification-caltech-256-second-{int(time.time())}')"
   ]
  },
  {
   "cell_type": "code",
   "execution_count": null,
   "id": "04e761cc",
   "metadata": {},
   "outputs": [
    {
     "name": "stderr",
     "output_type": "stream",
     "text": [
      "INFO:sagemaker.image_uris:Defaulting to the only supported framework/algorithm version: latest.\n",
      "INFO:sagemaker.image_uris:Ignoring unnecessary instance type: None.\n",
      "INFO:sagemaker:Creating training-job with name: image-classification-2021-08-12-00-54-21-170\n"
     ]
    },
    {
     "name": "stdout",
     "output_type": "stream",
     "text": [
      "2021-08-12 00:54:21 Starting - Starting the training job...\n",
      "2021-08-12 00:54:44 Starting - Launching requested ML instancesProfilerReport-1628729661: InProgress\n",
      "."
     ]
    }
   ],
   "source": [
    "%%time\n",
    "incr_ic = sagemaker.estimator.Estimator(\n",
    "    training_image,\n",
    "    role,\n",
    "    instance_count=1,\n",
    "    instance_type=\"ml.p2.xlarge\",\n",
    "    volume_size=50,\n",
    "    max_run=360000,\n",
    "    input_mode=\"File\",\n",
    "    output_path=s3_output_location,\n",
    "    sagemaker_session=sess,\n",
    ")\n",
    "incr_ic.set_hyperparameters(\n",
    "    num_layers=18,\n",
    "    image_shape=\"3,224,224\",\n",
    "    num_classes=257,\n",
    "    num_training_samples=15420,\n",
    "    mini_batch_size=128,\n",
    "    epochs=2,\n",
    "    learning_rate=0.01,\n",
    "    top_k=2,\n",
    ")\n",
    "\n",
    "incr_ic.fit(inputs=data_channels, logs=True, experiment_config={\n",
    "            \"ExperimentName\": caltech_experiment.experiment_name,\n",
    "            \"TrialName\": caltech_incr_trial.trial_name,\n",
    "            \"TrialComponentDisplayName\": \"caltech-image-classification-incr\",\n",
    "        })"
   ]
  },
  {
   "cell_type": "code",
   "execution_count": null,
   "id": "ad01cf3b",
   "metadata": {},
   "outputs": [],
   "source": [
    "trial_component_analytics = analytics.ExperimentAnalytics(experiment_name=caltech_experiment.experiment_name)"
   ]
  },
  {
   "cell_type": "code",
   "execution_count": null,
   "id": "37c0c50e",
   "metadata": {},
   "outputs": [],
   "source": [
    "trial_component_analytics.dataframe()"
   ]
  },
  {
   "cell_type": "code",
   "execution_count": null,
   "id": "e433a21f",
   "metadata": {},
   "outputs": [],
   "source": [
    "%%time\n",
    "ic_classifier_v2 = incr_ic.deploy(initial_instance_count=1, instance_type=\"ml.m4.xlarge\")"
   ]
  },
  {
   "cell_type": "code",
   "execution_count": null,
   "id": "86cda3fc",
   "metadata": {},
   "outputs": [],
   "source": [
    "ic_classifier_v2.serializer = IdentitySerializer(\"image/jpeg\")\n",
    "result_v2 = json.loads(ic_classifier_v2.predict(payload))\n",
    "# the result will output the probabilities for all classes\n",
    "# find the class with maximum probability and print the class index\n",
    "index_v2 = np.argmax(result_v2)"
   ]
  },
  {
   "cell_type": "code",
   "execution_count": null,
   "id": "a0dba327",
   "metadata": {},
   "outputs": [],
   "source": [
    "print(\"Result: label - \" + object_categories[index_v2] + \", probability - \" + str(result_v2[index_v2]))"
   ]
  },
  {
   "cell_type": "code",
   "execution_count": null,
   "id": "7488fb1d",
   "metadata": {},
   "outputs": [],
   "source": [
    "object_categories[np.argsort(result_v2)[-2]]"
   ]
  },
  {
   "cell_type": "code",
   "execution_count": null,
   "id": "de54ba0d",
   "metadata": {},
   "outputs": [],
   "source": []
  }
 ],
 "metadata": {
  "kernelspec": {
   "display_name": "conda_python3",
   "language": "python",
   "name": "conda_python3"
  },
  "language_info": {
   "codemirror_mode": {
    "name": "ipython",
    "version": 3
   },
   "file_extension": ".py",
   "mimetype": "text/x-python",
   "name": "python",
   "nbconvert_exporter": "python",
   "pygments_lexer": "ipython3",
   "version": "3.6.13"
  }
 },
 "nbformat": 4,
 "nbformat_minor": 5
}
